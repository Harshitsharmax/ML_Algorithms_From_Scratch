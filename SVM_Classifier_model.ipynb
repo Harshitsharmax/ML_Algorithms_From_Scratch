{
  "nbformat": 4,
  "nbformat_minor": 0,
  "metadata": {
    "colab": {
      "provenance": []
    },
    "kernelspec": {
      "name": "python3",
      "display_name": "Python 3"
    },
    "language_info": {
      "name": "python"
    }
  },
  "cells": [
    {
      "cell_type": "markdown",
      "source": [
        "SVM CLASSIFIER MODEL FROM SCRATCH"
      ],
      "metadata": {
        "id": "5XgkL3DahaCd"
      }
    },
    {
      "cell_type": "code",
      "execution_count": 1,
      "metadata": {
        "id": "widRwmXShZaE"
      },
      "outputs": [],
      "source": [
        "import numpy as np"
      ]
    },
    {
      "cell_type": "code",
      "source": [
        "class Svm_Classifier():\n",
        "  def __init__(self,No_of_iteration,Learning_rate,lambda_parameter):\n",
        "\n",
        "    self.No_of_iteration = No_of_iteration\n",
        "    self.Learning_rate = Learning_rate\n",
        "    self.lambda_parameter = lambda_parameter\n",
        "\n",
        "  def fit(self,X,Y):\n",
        "\n",
        "    self.m,self.n = X.shape\n",
        "    self.w = np.zeros(self.m)\n",
        "    self.b = 0\n",
        "    self.X = X\n",
        "    self.Y = Y\n",
        "\n",
        "    for i in range(self.No_of_iteration):\n",
        "      self.Update_Weights()\n",
        "\n",
        "  def Update_Weights(self):\n",
        "\n",
        "    #label encoding\n",
        "    y_label = np.where(self.Y<=0,-1,1)\n",
        "    for index,x_i in enumerate(self.X):\n",
        "      condition = y_label[index]*(np.dot(x_i,self.w)-self.b)>=1\n",
        "\n",
        "      if(condition==True):\n",
        "\n",
        "        dw = 2*self.lambda_parameter*self.w\n",
        "        db=0\n",
        "\n",
        "      else:\n",
        "\n",
        "        dw = 2*self.lambda_parameter*self.w\n",
        "        db=y_label[index]\n",
        "\n",
        "\n",
        "    self.w = self.w - self.No_of_iteration*dw\n",
        "    self.b = self.b - self.No_of_iteration*db\n",
        "\n",
        "  def predict(self,X):\n",
        "\n",
        "    output = np.dot(X,self.w)-self.b\n",
        "    predicted_label = np.sign(output)\n",
        "    y_hat = np.where(predicted_label<=-1,0,1)\n",
        "    return y_hat"
      ],
      "metadata": {
        "id": "GuMi0rs5hg_y"
      },
      "execution_count": 2,
      "outputs": []
    },
    {
      "cell_type": "code",
      "source": [],
      "metadata": {
        "id": "2eUZipIhhjw1"
      },
      "execution_count": null,
      "outputs": []
    }
  ]
}