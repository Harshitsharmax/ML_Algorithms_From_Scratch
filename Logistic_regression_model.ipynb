{
  "nbformat": 4,
  "nbformat_minor": 0,
  "metadata": {
    "colab": {
      "provenance": []
    },
    "kernelspec": {
      "name": "python3",
      "display_name": "Python 3"
    },
    "language_info": {
      "name": "python"
    }
  },
  "cells": [
    {
      "cell_type": "markdown",
      "source": [
        "LOGISTIC REGRESSION MODEL FROM SCRATCH"
      ],
      "metadata": {
        "id": "_D2005DOJBCa"
      }
    },
    {
      "cell_type": "code",
      "execution_count": 1,
      "metadata": {
        "id": "7MSBjPwzI54Y"
      },
      "outputs": [],
      "source": [
        "import numpy as np"
      ]
    },
    {
      "cell_type": "code",
      "source": [
        "class Logistic_Regression():\n",
        "\n",
        "  def __init__(self,No_of_iteration,Learning_rate):\n",
        "\n",
        "    self.No_of_iteration = No_of_iteration\n",
        "    self.Learning_rate = Learning_rate\n",
        "\n",
        "  def fit(self,X,Y):\n",
        "\n",
        "    self.m,self.n = X.shape\n",
        "    self.w = np.zeros(self.m)\n",
        "    self.b = 0\n",
        "    self.X = X\n",
        "    self.Y = Y\n",
        "\n",
        "    for i in range(self.No_of_iteration):\n",
        "      self.Update_Weights()\n",
        "\n",
        "  def Update_Weights(self):\n",
        "\n",
        "    Z = self.X.dot(self.w)+self.b\n",
        "    Y_prediction = 1/(1+np.exp(-Z))\n",
        "\n",
        "    dw = (1/self.m)*np.dot(self.X.T,(Y_prediction-self.Y))\n",
        "\n",
        "    db = (1/self.m)*np.sum(Y_prediction-self.Y)\n",
        "\n",
        "    self.w = self.w - self.No_of_iteration*dw\n",
        "    self.b = self.b - self.No_of_iteration*db\n",
        "\n",
        "  def predict(self,X):\n",
        "\n",
        "    Y_pred = 1/(1+np.exp(-self.X.dot(self.w)+self.b))\n",
        "    Y_pred = np.where(Y_pred>0.5,1,0)\n",
        "    return Y_pred"
      ],
      "metadata": {
        "id": "o5HHmAZmJEdK"
      },
      "execution_count": 2,
      "outputs": []
    }
  ]
}