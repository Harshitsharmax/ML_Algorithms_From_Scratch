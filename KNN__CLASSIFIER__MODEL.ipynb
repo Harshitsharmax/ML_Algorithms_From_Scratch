{
  "nbformat": 4,
  "nbformat_minor": 0,
  "metadata": {
    "colab": {
      "provenance": []
    },
    "kernelspec": {
      "name": "python3",
      "display_name": "Python 3"
    },
    "language_info": {
      "name": "python"
    }
  },
  "cells": [
    {
      "cell_type": "markdown",
      "source": [
        "KNN CLASSIFIER MODEL FROM SCRATCH"
      ],
      "metadata": {
        "id": "CTQNVr6d_wQN"
      }
    },
    {
      "cell_type": "code",
      "execution_count": 1,
      "metadata": {
        "id": "ywHp-7yn_fRE"
      },
      "outputs": [],
      "source": [
        "import numpy as np\n",
        "import statistics"
      ]
    },
    {
      "cell_type": "code",
      "source": [
        "class Knn_Classifier():\n",
        "  def __init__(self,distance_metrics):\n",
        "    self.get_distance_metric = distance_metrics\n",
        "\n",
        "  def get_distance_metric(self,training_data_point,test_data_point):\n",
        "    if(self.distance_metric == 'euclidean'):\n",
        "      dist = 0\n",
        "\n",
        "      for i in range(len(training_data_point) -1):\n",
        "        dist = dist + (training_data_point[i] - test_data_point[i])**2\n",
        "\n",
        "      euclidean_dist = np.sqrt(dist)\n",
        "      return euclidean_dist\n",
        "\n",
        "    elif (self.distance_metric == 'manhattan'):\n",
        "      dist = 0\n",
        "\n",
        "      for i in range(len(training_data_point) -1):\n",
        "        dist = dist + abs(training_data_point[i] - test_data_point[i])\n",
        "\n",
        "      manhattan_dist = np.sqrt(dist)\n",
        "      return manhattan_dist\n",
        "\n",
        "    def nearest_neighbour(self,X_train,test_data,k):\n",
        "      distance_list = []\n",
        "      for training_data in X_train:\n",
        "\n",
        "        distance = self.get_distance_metric(training_data,test_data)\n",
        "        distance_list.append(training_data,distance)\n",
        "\n",
        "      distance_list.sort(key = lambda x:x[1])\n",
        "      neighbour_list = []\n",
        "\n",
        "      for j in range(k):\n",
        "        neighbour_list.append(distance_list[j][0])\n",
        "\n",
        "      return neighbour_list\n",
        "\n",
        "    def predict(self,X_train,test_data,k):\n",
        "      neighbour = self.nearest_neighbour(X_train,test_data,k)\n",
        "\n",
        "      for data in neighbour:\n",
        "        label = []\n",
        "        label.append(data[-1])\n",
        "\n",
        "      predicted_class = statistics.model(label)\n",
        "      return predicted_class"
      ],
      "metadata": {
        "id": "1-bLefZb_0cc"
      },
      "execution_count": 3,
      "outputs": []
    }
  ]
}